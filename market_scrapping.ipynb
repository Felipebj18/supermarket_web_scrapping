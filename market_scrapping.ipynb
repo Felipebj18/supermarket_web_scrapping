{
 "cells": [
  {
   "cell_type": "code",
   "execution_count": 1,
   "metadata": {},
   "outputs": [],
   "source": [
    "# from time import sleep\n",
    "# from selenium import webdriver\n",
    "import pandas as pd\n",
    "# from selenium.webdriver.chrome.service import Service\n",
    "# from selenium.webdriver.chrome.options import Options\n",
    "# from selenium.webdriver.common.by import By\n",
    "\n",
    "\n",
    "def convert_google_sheet_to_xlsx(url,sheet_name):\n",
    "    \"\"\"\n",
    "    This function created based on this code:\n",
    "    https://gist.github.com/ivansaul/28257e793ae9b8575bb5c0f1b3906dad\n",
    "\n",
    "    Args:\n",
    "        url (string): the original Google Sheet Url\n",
    "\n",
    "    Returns:\n",
    "        A xlsx file from the google sheet\n",
    "    \"\"\"\n",
    "    #Challenge URL: https://docs.google.com/spreadsheets/d/1m94pt5eNXwKS2uzFNsEODeNd8a8JPY42vJ53yks6gh0/edit#gid=0\n",
    "\n",
    "    #get spreadsheets key from url\n",
    "    gsheetkey = url.split(\"/\")[-2]\n",
    "\n",
    "    export_url=f'https://docs.google.com/spreadsheet/ccc?key={gsheetkey}&output=xlsx'\n",
    "    df = pd.read_excel(export_url,sheet_name=sheet_name)\n",
    "    return df\n",
    "\n",
    "\n"
   ]
  },
  {
   "cell_type": "code",
   "execution_count": 2,
   "metadata": {},
   "outputs": [],
   "source": [
    "ean=convert_google_sheet_to_xlsx(\"https://docs.google.com/spreadsheets/d/1m94pt5eNXwKS2uzFNsEODeNd8a8JPY42vJ53yks6gh0/edit#gid=0\",\"Sheet1\")\n"
   ]
  },
  {
   "cell_type": "code",
   "execution_count": null,
   "metadata": {},
   "outputs": [],
   "source": []
  }
 ],
 "metadata": {
  "kernelspec": {
   "display_name": "base",
   "language": "python",
   "name": "python3"
  },
  "language_info": {
   "codemirror_mode": {
    "name": "ipython",
    "version": 3
   },
   "file_extension": ".py",
   "mimetype": "text/x-python",
   "name": "python",
   "nbconvert_exporter": "python",
   "pygments_lexer": "ipython3",
   "version": "3.9.7"
  }
 },
 "nbformat": 4,
 "nbformat_minor": 2
}

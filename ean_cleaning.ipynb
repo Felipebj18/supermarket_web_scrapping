{
 "cells": [
  {
   "cell_type": "code",
   "execution_count": 42,
   "metadata": {},
   "outputs": [],
   "source": [
    "import pandas as pd\n",
    "\n",
    "from import_google_sheet import convert_google_sheet_to_xlsx\n",
    "\n",
    "ean=convert_google_sheet_to_xlsx(\"https://docs.google.com/spreadsheets/d/1m94pt5eNXwKS2uzFNsEODeNd8a8JPY42vJ53yks6gh0/edit#gid=0\",\"Sheet1\")"
   ]
  },
  {
   "cell_type": "code",
   "execution_count": 44,
   "metadata": {},
   "outputs": [],
   "source": [
    "#Convert all values to int (They were initially imported as float)\n",
    "#ean = pd.DataFrame({\"EANCode\":list(map(lambda x:int(x),ean[\"EANCode\"]))})\n",
    "ean = pd.DataFrame({\"EANCode\":list(set(map(lambda x:int(x),ean[\"EANCode\"])))})"
   ]
  },
  {
   "cell_type": "code",
   "execution_count": 46,
   "metadata": {},
   "outputs": [],
   "source": [
    "ean.to_csv(\"ean_code_clean.csv\")"
   ]
  },
  {
   "cell_type": "code",
   "execution_count": 34,
   "metadata": {},
   "outputs": [
    {
     "data": {
      "text/plain": [
       "set"
      ]
     },
     "execution_count": 34,
     "metadata": {},
     "output_type": "execute_result"
    }
   ],
   "source": []
  }
 ],
 "metadata": {
  "kernelspec": {
   "display_name": "Python 3",
   "language": "python",
   "name": "python3"
  },
  "language_info": {
   "codemirror_mode": {
    "name": "ipython",
    "version": 3
   },
   "file_extension": ".py",
   "mimetype": "text/x-python",
   "name": "python",
   "nbconvert_exporter": "python",
   "pygments_lexer": "ipython3",
   "version": "3.9.7"
  }
 },
 "nbformat": 4,
 "nbformat_minor": 2
}

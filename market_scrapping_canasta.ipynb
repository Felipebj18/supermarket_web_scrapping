{
 "cells": [
  {
   "cell_type": "code",
   "execution_count": 102,
   "metadata": {},
   "outputs": [
    {
     "name": "stdout",
     "output_type": "stream",
     "text": [
      "Operación exitosa. Puedes continuar con el procesamiento de 'categories'.\n"
     ]
    }
   ],
   "source": [
    "import requests\n",
    "from bs4 import BeautifulSoup\n",
    "from urllib.parse import urljoin\n",
    "\n",
    "def get_product_data_la_canasta(product_html, base_url):\n",
    "    sku = product_html.find(\"small\", {\"class\": \"sku-code\"}).text.replace(\"SKU: \", \"\")\n",
    "    title = product_html.find(\"div\", {\"class\": \"product-title\"}).text.strip()\n",
    "    description = product_html.find(\"div\", {\"class\": \"product-short-description\"}).text.strip()\n",
    "    quantity = product_html.find(\"strong\").text\n",
    "    price = product_html.find('span', {'class': 'total-options'})\n",
    "    price = price.get(\"data-price\")\n",
    "\n",
    "    product_url = urljoin(base_url, product_html.find(\"a\")[\"href\"])\n",
    "\n",
    "    product_details = requests.get(product_url)\n",
    "    product_details.raise_for_status()  # si hay error se lanza la excepción\n",
    "    detail_html = product_details.content\n",
    "    details_info = BeautifulSoup(detail_html, \"html.parser\")\n",
    "    img_url = urljoin(base_url, details_info.find(\"img\", {\"class\": \"lazy\"})[\"data-src\"])\n",
    "\n",
    "    product_info = {\"sku\": sku, \"title\": title, \"description\": description,\n",
    "                    \"quantity\": quantity, \"price\": price, \"product url\": product_url, \"image url\": img_url}\n",
    "    \n",
    "    return product_info\n",
    "\n",
    "def scrape_la_canasta(url):\n",
    "    try:\n",
    "        response = requests.get(url)\n",
    "        response.raise_for_status()  # Lanzar una excepción si hay un error HTTP\n",
    "\n",
    "        soup = BeautifulSoup(response.content, \"html.parser\")\n",
    "\n",
    "        categories = {}\n",
    "        products = []\n",
    "\n",
    "        menu_items = soup.find_all(\"li\", class_=\"root-item menu_item_children\")\n",
    "\n",
    "        for item in menu_items:\n",
    "            link = urljoin(url, str(item.find(\"a\")[\"href\"]))\n",
    "            text = item.find(\"span\").text\n",
    "            \n",
    "            # Every element of the dict has the category name as a key and the link as the value\n",
    "            response = requests.get(link)\n",
    "            response.raise_for_status()  # si hay error se lanza la excepción\n",
    "            html = response.content\n",
    "            products_info = BeautifulSoup(html, \"html.parser\").find_all(\"div\", class_=\"row variant-fancy-box\")\n",
    "\n",
    "            for product_html in products_info:\n",
    "                product_info = get_product_data_la_canasta(product_html, url)\n",
    "                products.append(product_info)\n",
    "\n",
    "            # Every element of the dict has the category name as a key and the products html as the value\n",
    "            categories[text] = products_info\n",
    "        df_products = pd.DataFrame(products)\n",
    "\n",
    "    except requests.exceptions.RequestException as e:\n",
    "        print(f\"Error al obtener el contenido de la URL '{url}': {e}\")\n",
    "        # Puedes agregar aquí el manejo de errores específicos según tus necesidades\n",
    "    except Exception as e:\n",
    "        print(f\"Error inesperado: {e}\")\n",
    "        # Puedes agregar aquí el manejo de errores específicos según tus necesidades\n",
    "    else:\n",
    "        # El código en este bloque else se ejecutará si no hay excepciones\n",
    "        print(\"Operación exitosa. Puedes continuar con el procesamiento de 'categories'.\")\n",
    "        return df_products\n",
    "\n",
    "\n",
    "scraped_data = scrape_la_canasta(\"https://supermercadoslacanasta.com/es?spcode=smlc-sogamoso\")\n"
   ]
  },
  {
   "cell_type": "code",
   "execution_count": 105,
   "metadata": {},
   "outputs": [],
   "source": [
    "scraped_data.to_csv(\"la_canasta_products.csv\",index=False)"
   ]
  }
 ],
 "metadata": {
  "kernelspec": {
   "display_name": "base",
   "language": "python",
   "name": "python3"
  },
  "language_info": {
   "codemirror_mode": {
    "name": "ipython",
    "version": 3
   },
   "file_extension": ".py",
   "mimetype": "text/x-python",
   "name": "python",
   "nbconvert_exporter": "python",
   "pygments_lexer": "ipython3",
   "version": "3.9.7"
  }
 },
 "nbformat": 4,
 "nbformat_minor": 2
}
